{
  "nbformat": 4,
  "nbformat_minor": 0,
  "metadata": {
    "colab": {
      "name": "Fashion/Number MNIST using CNN.ipynb",
      "version": "0.3.2",
      "provenance": [],
      "collapsed_sections": []
    },
    "kernelspec": {
      "name": "python3",
      "display_name": "Python 3"
    },
    "accelerator": "GPU"
  },
  "cells": [
    {
      "cell_type": "code",
      "metadata": {
        "id": "1dXYvcVLwi5_",
        "colab_type": "code",
        "colab": {}
      },
      "source": [
        "import math\n",
        "import numpy as np\n",
        "import tensorflow as tf\n",
        "import matplotlib.pyplot as plt\n",
        "%matplotlib inline"
      ],
      "execution_count": 0,
      "outputs": []
    },
    {
      "cell_type": "code",
      "metadata": {
        "id": "zWTy_txowuVj",
        "colab_type": "code",
        "outputId": "cdabf65e-3d69-4db1-b056-71c124c385c8",
        "colab": {
          "base_uri": "https://localhost:8080/",
          "height": 153
        }
      },
      "source": [
        "(X_train_orig, Y_train_orig), (X_test_orig, Y_test_orig) = tf.keras.datasets.fashion_mnist.load_data()  #FASHION ITEMS\n",
        "\n",
        "#(X_train_orig, Y_train_orig), (X_test_orig, Y_test_orig) = tf.keras.datasets.mnist.load_data()  #Handwritten digits"
      ],
      "execution_count": 0,
      "outputs": [
        {
          "output_type": "stream",
          "text": [
            "Downloading data from https://storage.googleapis.com/tensorflow/tf-keras-datasets/train-labels-idx1-ubyte.gz\n",
            "32768/29515 [=================================] - 0s 0us/step\n",
            "Downloading data from https://storage.googleapis.com/tensorflow/tf-keras-datasets/train-images-idx3-ubyte.gz\n",
            "26427392/26421880 [==============================] - 0s 0us/step\n",
            "Downloading data from https://storage.googleapis.com/tensorflow/tf-keras-datasets/t10k-labels-idx1-ubyte.gz\n",
            "8192/5148 [===============================================] - 0s 0us/step\n",
            "Downloading data from https://storage.googleapis.com/tensorflow/tf-keras-datasets/t10k-images-idx3-ubyte.gz\n",
            "4423680/4422102 [==============================] - 0s 0us/step\n"
          ],
          "name": "stdout"
        }
      ]
    },
    {
      "cell_type": "code",
      "metadata": {
        "id": "mtZYAqsCwxWR",
        "colab_type": "code",
        "outputId": "4df82f63-c002-4d5f-9ce5-b4e45d48bae1",
        "colab": {
          "base_uri": "https://localhost:8080/",
          "height": 119
        }
      },
      "source": [
        "Y_train_orig = Y_train_orig.reshape(Y_train_orig.shape[0],1)\n",
        "Y_test_orig = Y_test_orig.reshape(Y_test_orig.shape[0],1)\n",
        "print(\"Shape of X_train\" + str(X_train_orig.shape))\n",
        "print(\"Shape of Y_train\" + str(Y_train_orig.shape))\n",
        "print(\"Shape of X_test\" + str(X_test_orig.shape))\n",
        "print(\"Shape of Y_test\" + str(Y_test_orig.shape))\n",
        "m = len(X_train_orig)\n",
        "m_test = len(X_test_orig)\n",
        "print(\"No. of training examples = \" +str(m))\n",
        "print(\"No. of test examples = \" +str(m_test))"
      ],
      "execution_count": 0,
      "outputs": [
        {
          "output_type": "stream",
          "text": [
            "Shape of X_train(60000, 28, 28)\n",
            "Shape of Y_train(60000, 1)\n",
            "Shape of X_test(10000, 28, 28)\n",
            "Shape of Y_test(10000, 1)\n",
            "No. of training examples = 60000\n",
            "No. of test examples = 10000\n"
          ],
          "name": "stdout"
        }
      ]
    },
    {
      "cell_type": "code",
      "metadata": {
        "id": "JJQPZqCZw0KI",
        "colab_type": "code",
        "outputId": "aa9d23b4-3fc6-445f-f76b-85a24bf63b14",
        "colab": {
          "base_uri": "https://localhost:8080/",
          "height": 286
        }
      },
      "source": [
        "index = 5\n",
        "plt.imshow(X_train_orig[index])\n",
        "print(\"Y = \"+str(Y_train_orig[index]))"
      ],
      "execution_count": 0,
      "outputs": [
        {
          "output_type": "stream",
          "text": [
            "Y = [2]\n"
          ],
          "name": "stdout"
        },
        {
          "output_type": "display_data",
          "data": {
            "image/png": "[encoded data removed]",
            "text/plain": [
              "<Figure size 432x288 with 1 Axes>"
            ]
          },
          "metadata": {
            "tags": []
          }
        }
      ]
    },
    {
      "cell_type": "code",
      "metadata": {
        "id": "nHRv6hjCpcfy",
        "colab_type": "code",
        "colab": {}
      },
      "source": [
        "def one_hot(no_classes,Y):\n",
        "    targets = np.array(Y).reshape(-1)\n",
        "    Y = np.eye(no_classes)[targets]\n",
        "    Y=Y.T\n",
        "    return Y"
      ],
      "execution_count": 0,
      "outputs": []
    },
    {
      "cell_type": "code",
      "metadata": {
        "id": "FO187LfDbBPs",
        "colab_type": "code",
        "outputId": "91d66dd8-ca99-41d3-e1be-5cf1a9d3adb7",
        "colab": {
          "base_uri": "https://localhost:8080/",
          "height": 51
        }
      },
      "source": [
        "X_train = X_train_orig.reshape(60000,28,28,1)\n",
        "X_test  = X_test_orig.reshape(10000,28,28,1)\n",
        "X_train = X_train/255\n",
        "X_test = X_test/255\n",
        "\n",
        "no_classes = 10\n",
        "\n",
        "Y_train = one_hot(no_classes,Y_train_orig)\n",
        "Y_test = one_hot(no_classes,Y_test_orig)\n",
        "Y_train = Y_train.T\n",
        "Y_test = Y_test.T\n",
        "\n",
        "\n",
        "print(\"Shape of Y :\" + str(Y_train.shape))\n",
        "X_train.shape"
      ],
      "execution_count": 0,
      "outputs": [
        {
          "output_type": "stream",
          "text": [
            "Shape of Y :(60000, 10)\n"
          ],
          "name": "stdout"
        },
        {
          "output_type": "execute_result",
          "data": {
            "text/plain": [
              "(60000, 28, 28, 1)"
            ]
          },
          "metadata": {
            "tags": []
          },
          "execution_count": 6
        }
      ]
    },
    {
      "cell_type": "code",
      "metadata": {
        "id": "381AHpuxxr7D",
        "colab_type": "code",
        "colab": {}
      },
      "source": [
        "def create_placeholder(X_train,Y_train,X_test,Y_test):\n",
        "    \n",
        "    X_train = tf.placeholder(name = \"X_train\" , shape = [None,X_train.shape[1],X_train.shape[2],X_train.shape[3]] , dtype =tf.float32 )\n",
        "    Y_train = tf.placeholder(name = \"Y_train\" , shape = [None,Y_train.shape[1]] , dtype =tf.float32 )\n",
        "    X_test = tf.placeholder(name = \"X_test\" , shape = [None,X_test.shape[1],X_test.shape[2],X_test.shape[3]] , dtype =tf.float32 )\n",
        "    Y_test = tf.placeholder(name = \"Y_test\" , shape = [None,Y_test.shape[1]] , dtype =tf.float32 )\n",
        "    \n",
        "    return X_train,Y_train,X_test,Y_test"
      ],
      "execution_count": 0,
      "outputs": []
    },
    {
      "cell_type": "code",
      "metadata": {
        "id": "lf9twE2ky9n9",
        "colab_type": "code",
        "colab": {}
      },
      "source": [
        "def initialize_parameters():\n",
        "    \n",
        "    p={}\n",
        "    \n",
        "    p['W1'] = tf.get_variable(name=\"W1\",shape=[3, 3,1,20], initializer =tf.contrib.layers.xavier_initializer(seed = 0))\n",
        "    p['W2'] = tf.get_variable(name=\"W2\",shape=[3, 3, 20,50 ], initializer =tf.contrib.layers.xavier_initializer(seed = 0))\n",
        "    \n",
        "    return p"
      ],
      "execution_count": 0,
      "outputs": []
    },
    {
      "cell_type": "code",
      "metadata": {
        "id": "AtC7UEPM1BBE",
        "colab_type": "code",
        "colab": {}
      },
      "source": [
        "def forward_prop(X,parameters):\n",
        "    \n",
        "    Z1 = tf.nn.conv2d(X,parameters['W1'],strides = [1,1,1,1], padding = 'SAME')\n",
        "    A1 = tf.nn.relu(Z1)\n",
        "    \n",
        "    P1 = tf.nn.max_pool(A1, ksize = [1,3,3,1], strides = [1,2,2,1], padding = 'SAME')\n",
        "    \n",
        "    Z2 = tf.nn.conv2d(P1,parameters['W2'],strides = [1,2,2,1], padding = 'SAME')\n",
        "    A2 = tf.nn.relu(Z2)\n",
        "    \n",
        "    P2 = tf.nn.max_pool(A1, ksize = [1,4,4,1], strides = [1,2,2,1], padding = 'SAME')\n",
        "    P2 = tf.contrib.layers.flatten(P2)\n",
        "    Z3 = tf.contrib.layers.fully_connected(P2,1200,activation_fn=tf.nn.relu) \n",
        "    Z3 = tf.layers.dropout(Z3, rate=0.5) \n",
        "    \n",
        "    Z3 = tf.contrib.layers.fully_connected(Z3,10,activation_fn=None)\n",
        "    \n",
        "    return Z3"
      ],
      "execution_count": 0,
      "outputs": []
    },
    {
      "cell_type": "code",
      "metadata": {
        "id": "FDdimR_w2-fT",
        "colab_type": "code",
        "colab": {}
      },
      "source": [
        "def compute_cost(Y,Z3):\n",
        "    \n",
        "    cost = tf.reduce_mean(tf.nn.softmax_cross_entropy_with_logits(logits = Z3 , labels = Y))\n",
        "    \n",
        "    return cost"
      ],
      "execution_count": 0,
      "outputs": []
    },
    {
      "cell_type": "code",
      "metadata": {
        "id": "0h-ntBcU6huu",
        "colab_type": "code",
        "colab": {}
      },
      "source": [
        "parameters = initialize_parameters()"
      ],
      "execution_count": 0,
      "outputs": []
    },
    {
      "cell_type": "code",
      "metadata": {
        "id": "35ZpRqIV7DfB",
        "colab_type": "code",
        "colab": {}
      },
      "source": [
        "def model(X_train, Y_train,X_test,Y_test,parameters, learning_rate = 0.009,epochs = 100, minibatch_size = 1000):\n",
        "    \n",
        "    X,Y,X_t,Y_t = create_placeholder(X_train,Y_train,X_test,Y_test)\n",
        "    Z3 = forward_prop(X,parameters)\n",
        "    cost = compute_cost(Y,Z3)\n",
        "    optimizer = tf.train.AdamOptimizer(learning_rate).minimize(cost)\n",
        "    init = tf.global_variables_initializer()\n",
        "    sess = tf.Session()\n",
        "    sess.run(init)\n",
        "    \n",
        "    mini_cost=0\n",
        "    costs=[]\n",
        "    \n",
        "    N = math.floor(X_train.shape[0]/minibatch_size)\n",
        "\n",
        "    for i in range(1,epochs):\n",
        "        for j in range(N):\n",
        "            _,c = sess.run([optimizer,cost],feed_dict={X : X_train[j*minibatch_size:(j+1)*minibatch_size,:] , Y : Y_train[j*minibatch_size:(j+1)*minibatch_size,:]})\n",
        "            mini_cost += c\n",
        "        mini_cost =mini_cost/N\n",
        "        if i%5 == 0:\n",
        "            print(\"Epochs : \"+str(i) + \" : COST  \"+str(mini_cost))\n",
        "        if i%5 == 0:\n",
        "            costs.append(mini_cost)\n",
        "        mini_cost=0\n",
        "        \n",
        "        \n",
        "    pred_train = tf.nn.softmax(sess.run(Z3,feed_dict={X : X_train}))\n",
        "    pred_train = tf.math.argmax(pred_train,1)\n",
        "    correct_prediction_train = tf.equal(pred_train, tf.argmax(Y, 1))\n",
        "    accuracy_train = tf.reduce_mean(tf.cast(correct_prediction_train, tf.float32))\n",
        "    acu_train = sess.run(accuracy_train,feed_dict={X:X_train,Y:Y_train})\n",
        "\n",
        "    pred_test = tf.nn.softmax(sess.run(Z3,feed_dict={X : X_test}))\n",
        "    pred_test = tf.math.argmax(pred_test,1)\n",
        "    correct_prediction_test = tf.equal(pred_test, tf.argmax(Y_t, 1))\n",
        "    accuracy_test = tf.reduce_mean(tf.cast(correct_prediction_test, tf.float32))\n",
        "    acu_test = sess.run(accuracy_test,feed_dict={X:X_test,Y_t:Y_test})\n",
        "    print(\"Train Set Accuracy : \"+str(acu_train*100)+\" %\")\n",
        "    print(\"Test Set Accuracy  : \"+str(acu_test*100)+\" %\")\n",
        "    # plot the cost\n",
        "    plt.plot(np.squeeze(costs))\n",
        "    plt.ylabel('cost')\n",
        "    plt.xlabel('Iterations')\n",
        "    plt.title(\"Learning rate =\" + str(learning_rate))\n",
        "    plt.show()\n",
        "\n",
        "    return parameters,sess,pred_train,pred_test"
      ],
      "execution_count": 0,
      "outputs": []
    },
    {
      "cell_type": "code",
      "metadata": {
        "id": "ymzcVyuY6oVj",
        "colab_type": "code",
        "outputId": "f6321ad7-13c0-486d-9f79-c49ea1976a7e",
        "colab": {
          "base_uri": "https://localhost:8080/",
          "height": 499
        }
      },
      "source": [
        "final_param,sess,pred_train,pred_test = model(X_train,Y_train,X_test,Y_test,parameters, learning_rate = 0.002,epochs = 55, minibatch_size = 600)"
      ],
      "execution_count": 0,
      "outputs": [
        {
          "output_type": "stream",
          "text": [
            "Epochs : 5 : COST  0.21261043041944505\n",
            "Epochs : 10 : COST  0.13969498462975025\n",
            "Epochs : 15 : COST  0.10612974531948566\n",
            "Epochs : 20 : COST  0.08996031261980533\n",
            "Epochs : 25 : COST  0.05398882541805506\n",
            "Epochs : 30 : COST  0.048236772380769254\n",
            "Epochs : 35 : COST  0.035696576563641426\n",
            "Epochs : 40 : COST  0.032092476058751346\n",
            "Epochs : 45 : COST  0.023263649018481374\n",
            "Epochs : 50 : COST  0.009224898864049464\n",
            "Train Set Accuracy : 99.50666427612305 %\n",
            "Test Set Accuracy  : 91.839998960495 %\n"
          ],
          "name": "stdout"
        },
        {
          "output_type": "display_data",
          "data": {
            "image/png": "[encoded data removed]",
            "text/plain": [
              "<Figure size 432x288 with 1 Axes>"
            ]
          },
          "metadata": {
            "tags": []
          }
        }
      ]
    },
    {
      "cell_type": "code",
      "metadata": {
        "id": "QBNOlBby-z7I",
        "colab_type": "code",
        "colab": {}
      },
      "source": [
        "Fashion_label_dict = {\n",
        " 0: 'T-shirt/top',\n",
        " 1: 'Trouser',\n",
        " 2: 'Pullover',\n",
        " 3: 'Dress',\n",
        " 4: 'Coat',\n",
        " 5: 'Sandal',\n",
        " 6: 'Shirt',\n",
        " 7: 'Sneaker',\n",
        " 8: 'Bag',\n",
        " 9: 'Ankle boot'\n",
        "}\n",
        "Number_label_dict = {\n",
        " 0: 'Zero',\n",
        " 1: 'One',\n",
        " 2: 'Two',\n",
        " 3: 'Three',\n",
        " 4: 'Four',\n",
        " 5: 'Five',\n",
        " 6: 'Six',\n",
        " 7: 'Seven',\n",
        " 8: 'Eight',\n",
        " 9: 'Nine'\n",
        "}"
      ],
      "execution_count": 0,
      "outputs": []
    },
    {
      "cell_type": "code",
      "metadata": {
        "id": "-EZBZwAm-zx9",
        "colab_type": "code",
        "outputId": "9ffec831-f89c-496c-fa86-5fafb9873153",
        "colab": {
          "base_uri": "https://localhost:8080/",
          "height": 303
        }
      },
      "source": [
        "ind = 123\n",
        "plt.imshow(X_test_orig[ind])\n",
        "i=Y_test_orig[ind]\n",
        "j = sess.run(pred_test[ind])\n",
        "print(\"Actual = \" + str(i) + \" (\" + str(Fashion_label_dict[i[0]]) + \")\")\n",
        "print(\"Prediction = \"+str(j)+\" (\"+str(Fashion_label_dict[j])+\")\")"
      ],
      "execution_count": 0,
      "outputs": [
        {
          "output_type": "stream",
          "text": [
            "Actual = [9] (Ankle boot)\n",
            "Prediction = 9 (Ankle boot)\n"
          ],
          "name": "stdout"
        },
        {
          "output_type": "display_data",
          "data": {
            "image/png": "[encoded data removed]",
            "text/plain": [
              "<Figure size 432x288 with 1 Axes>"
            ]
          },
          "metadata": {
            "tags": []
          }
        }
      ]
    },
    {
      "cell_type": "code",
      "metadata": {
        "id": "uL9vDcQp-zb8",
        "colab_type": "code",
        "outputId": "06caddaf-0298-470f-d411-114a7c464925",
        "colab": {
          "base_uri": "https://localhost:8080/",
          "height": 34
        }
      },
      "source": [
        "Y_test_pred = np.array(sess.run(pred_test))\n",
        "mis_lab = []\n",
        "for i in range(9999):\n",
        "    if Y_test_pred[i] !=  Y_test_orig[i]:\n",
        "        mis_lab.append(i)\n",
        "print('Total wrong predictions = '+ str(len(mis_lab)))  "
      ],
      "execution_count": 0,
      "outputs": [
        {
          "output_type": "stream",
          "text": [
            "Total wrong predictions = 816\n"
          ],
          "name": "stdout"
        }
      ]
    },
    {
      "cell_type": "code",
      "metadata": {
        "id": "3pXLv55n_MnG",
        "colab_type": "code",
        "outputId": "e820ece4-cf45-4118-b69b-c59fe014caea",
        "colab": {
          "base_uri": "https://localhost:8080/",
          "height": 303
        }
      },
      "source": [
        "ind = mis_lab[3]\n",
        "plt.imshow(X_test_orig[ind])\n",
        "i=Y_test_orig[ind]\n",
        "i = i.astype(int)\n",
        "j = sess.run(pred_test[ind])\n",
        "print(\"Actual = \" + str(i) + \" (\" + str(Fashion_label_dict[i[0]]) + \")\")\n",
        "print(\"Prediction = \"+str(j)+\" (\"+str(Fashion_label_dict[j])+\")\")"
      ],
      "execution_count": 0,
      "outputs": [
        {
          "output_type": "stream",
          "text": [
            "Actual = [3] (Dress)\n",
            "Prediction = 6 (Shirt)\n"
          ],
          "name": "stdout"
        },
        {
          "output_type": "display_data",
          "data": {
            "image/png": "[encoded data removed]",
            "text/plain": [
              "<Figure size 432x288 with 1 Axes>"
            ]
          },
          "metadata": {
            "tags": []
          }
        }
      ]
    },
    {
      "cell_type": "code",
      "metadata": {
        "id": "ynGGLyZstw-t",
        "colab_type": "code",
        "outputId": "e43eaa41-4852-419a-f251-6eee386b2d9f",
        "colab": {
          "base_uri": "https://localhost:8080/",
          "height": 187
        }
      },
      "source": [
        "tf.trainable_variables()"
      ],
      "execution_count": 0,
      "outputs": [
        {
          "output_type": "execute_result",
          "data": {
            "text/plain": [
              "[<tf.Variable 'W1:0' shape=(3, 3, 1, 20) dtype=float32_ref>,\n",
              " <tf.Variable 'W2:0' shape=(3, 3, 20, 50) dtype=float32_ref>,\n",
              " <tf.Variable 'fully_connected/weights:0' shape=(3920, 1200) dtype=float32_ref>,\n",
              " <tf.Variable 'fully_connected/biases:0' shape=(1200,) dtype=float32_ref>,\n",
              " <tf.Variable 'fully_connected_1/weights:0' shape=(1200, 10) dtype=float32_ref>,\n",
              " <tf.Variable 'fully_connected_1/biases:0' shape=(10,) dtype=float32_ref>,\n",
              " <tf.Variable 'fully_connected_2/weights:0' shape=(3920, 1200) dtype=float32_ref>,\n",
              " <tf.Variable 'fully_connected_2/biases:0' shape=(1200,) dtype=float32_ref>,\n",
              " <tf.Variable 'fully_connected_3/weights:0' shape=(1200, 10) dtype=float32_ref>,\n",
              " <tf.Variable 'fully_connected_3/biases:0' shape=(10,) dtype=float32_ref>]"
            ]
          },
          "metadata": {
            "tags": []
          },
          "execution_count": 24
        }
      ]
    },
    {
      "cell_type": "code",
      "metadata": {
        "id": "cZQrrAx7nKl_",
        "colab_type": "code",
        "colab": {}
      },
      "source": [
        ""
      ],
      "execution_count": 0,
      "outputs": []
    }
  ]
}